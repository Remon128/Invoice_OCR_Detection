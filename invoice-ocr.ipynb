{
 "cells": [
  {
   "cell_type": "code",
   "execution_count": 1,
   "id": "8363014c",
   "metadata": {
    "_cell_guid": "b1076dfc-b9ad-4769-8c92-a6c4dae69d19",
    "_uuid": "8f2839f25d086af736a60e9eeb907d3b93b6e0e5",
    "execution": {
     "iopub.execute_input": "2022-04-21T12:39:04.289981Z",
     "iopub.status.busy": "2022-04-21T12:39:04.289604Z",
     "iopub.status.idle": "2022-04-21T12:39:04.314132Z",
     "shell.execute_reply": "2022-04-21T12:39:04.313129Z"
    },
    "papermill": {
     "duration": 0.052837,
     "end_time": "2022-04-21T12:39:04.316369",
     "exception": false,
     "start_time": "2022-04-21T12:39:04.263532",
     "status": "completed"
    },
    "tags": []
   },
   "outputs": [
    {
     "name": "stdout",
     "output_type": "stream",
     "text": [
      "/kaggle/input/invoice-ocr-data/invoice_16.jpg\n",
      "/kaggle/input/invoice-ocr-data/invoice_11.jpg\n",
      "/kaggle/input/invoice-ocr-data/invoice_13.jpg\n",
      "/kaggle/input/invoice-ocr-data/invoice_8.jpg\n",
      "/kaggle/input/invoice-ocr-data/invoice_9.jpg\n",
      "/kaggle/input/invoice-ocr-data/invoice_12.jpg\n",
      "/kaggle/input/invoice-ocr-data/invoice_10.jpg\n",
      "/kaggle/input/invoice-ocr-data/invoice_14.jpg\n",
      "/kaggle/input/invoice-ocr-data/invoice_6.jpg\n",
      "/kaggle/input/invoice-ocr-data/invoice_4.jpg\n",
      "/kaggle/input/invoice-ocr-data/invoice_2.jpg\n",
      "/kaggle/input/invoice-ocr-data/invoice_7.jpg\n",
      "/kaggle/input/invoice-ocr-data/invoice_15.jpg\n",
      "/kaggle/input/invoice-ocr-data/invoice_3.jpg\n",
      "/kaggle/input/invoice-ocr-data/invoice_1.jpg\n",
      "/kaggle/input/invoice-ocr-data/invoice_5.jpg\n"
     ]
    }
   ],
   "source": [
    "# This Python 3 environment comes with many helpful analytics libraries installed\n",
    "# It is defined by the kaggle/python Docker image: https://github.com/kaggle/docker-python\n",
    "# For example, here's several helpful packages to load\n",
    "\n",
    "import numpy as np # linear algebra\n",
    "import pandas as pd # data processing, CSV file I/O (e.g. pd.read_csv)\n",
    "\n",
    "# Input data files are available in the read-only \"../input/\" directory\n",
    "# For example, running this (by clicking run or pressing Shift+Enter) will list all files under the input directory\n",
    "\n",
    "import os\n",
    "for dirname, _, filenames in os.walk('/kaggle/input'):\n",
    "    for filename in filenames:\n",
    "        print(os.path.join(dirname, filename))\n",
    "\n",
    "# You can write up to 20GB to the current directory (/kaggle/working/) that gets preserved as output when you create a version using \"Save & Run All\" \n",
    "# You can also write temporary files to /kaggle/temp/, but they won't be saved outside of the current session"
   ]
  },
  {
   "cell_type": "code",
   "execution_count": 2,
   "id": "5584a5c6",
   "metadata": {
    "execution": {
     "iopub.execute_input": "2022-04-21T12:39:04.364180Z",
     "iopub.status.busy": "2022-04-21T12:39:04.363877Z",
     "iopub.status.idle": "2022-04-21T12:39:06.411224Z",
     "shell.execute_reply": "2022-04-21T12:39:06.410451Z"
    },
    "papermill": {
     "duration": 2.073678,
     "end_time": "2022-04-21T12:39:06.413687",
     "exception": false,
     "start_time": "2022-04-21T12:39:04.340009",
     "status": "completed"
    },
    "tags": []
   },
   "outputs": [],
   "source": [
    "# Generic Libraries\n",
    "from PIL import Image\n",
    "import os\n",
    "import pandas as pd\n",
    "import numpy as np\n",
    "import re,string,unicodedata\n",
    "\n",
    "#Tesseract Library\n",
    "import pytesseract\n",
    "from pytesseract import Output\n",
    "\n",
    "#Warnings\n",
    "import warnings\n",
    "warnings.filterwarnings(\"ignore\")\n",
    "\n",
    "#Garbage Collection\n",
    "import gc\n",
    "\n",
    "#Gensim Library for Text Processing\n",
    "import gensim.parsing.preprocessing as gsp\n",
    "from gensim import utils\n",
    "\n",
    "#TextBlob Library (Sentiment Analysis)\n",
    "from textblob import TextBlob, Word\n",
    "\n",
    "#Plotting Libraries\n",
    "import matplotlib.pyplot as plt\n",
    "import seaborn as sns\n",
    "\n",
    "#WordCloud Generator\n",
    "from wordcloud import WordCloud,STOPWORDS"
   ]
  },
  {
   "cell_type": "code",
   "execution_count": 3,
   "id": "272ff18e",
   "metadata": {
    "execution": {
     "iopub.execute_input": "2022-04-21T12:39:06.461589Z",
     "iopub.status.busy": "2022-04-21T12:39:06.461164Z",
     "iopub.status.idle": "2022-04-21T12:39:06.464146Z",
     "shell.execute_reply": "2022-04-21T12:39:06.463620Z"
    },
    "papermill": {
     "duration": 0.028939,
     "end_time": "2022-04-21T12:39:06.465818",
     "exception": false,
     "start_time": "2022-04-21T12:39:06.436879",
     "status": "completed"
    },
    "tags": []
   },
   "outputs": [],
   "source": [
    "# Define Directory Path\n",
    "sample_images = '../input/invoice-ocr-data/'"
   ]
  },
  {
   "cell_type": "code",
   "execution_count": 4,
   "id": "579e8908",
   "metadata": {
    "execution": {
     "iopub.execute_input": "2022-04-21T12:39:06.512750Z",
     "iopub.status.busy": "2022-04-21T12:39:06.512247Z",
     "iopub.status.idle": "2022-04-21T12:39:06.517353Z",
     "shell.execute_reply": "2022-04-21T12:39:06.516808Z"
    },
    "papermill": {
     "duration": 0.030623,
     "end_time": "2022-04-21T12:39:06.519072",
     "exception": false,
     "start_time": "2022-04-21T12:39:06.488449",
     "status": "completed"
    },
    "tags": []
   },
   "outputs": [],
   "source": [
    "# Custome Function to Traverse The Folder\n",
    "def traverse(directory):\n",
    "    path, dirs, files = next(os.walk(directory))\n",
    "    print(path , \"path\")\n",
    "    print(dirs , \"dirs\")\n",
    "    print(files , \"files\")\n",
    "    fol_nm = os.path.split(os.path.dirname(path))[-1]\n",
    "    print(f'Number of files found in \"{fol_nm}\" : ',len(files))"
   ]
  },
  {
   "cell_type": "code",
   "execution_count": 5,
   "id": "d837a424",
   "metadata": {
    "execution": {
     "iopub.execute_input": "2022-04-21T12:39:06.566184Z",
     "iopub.status.busy": "2022-04-21T12:39:06.565693Z",
     "iopub.status.idle": "2022-04-21T12:39:06.571389Z",
     "shell.execute_reply": "2022-04-21T12:39:06.570673Z"
    },
    "papermill": {
     "duration": 0.031604,
     "end_time": "2022-04-21T12:39:06.573378",
     "exception": false,
     "start_time": "2022-04-21T12:39:06.541774",
     "status": "completed"
    },
    "tags": []
   },
   "outputs": [
    {
     "name": "stdout",
     "output_type": "stream",
     "text": [
      "../input/invoice-ocr-data/ path\n",
      "[] dirs\n",
      "['invoice_16.jpg', 'invoice_11.jpg', 'invoice_13.jpg', 'invoice_8.jpg', 'invoice_9.jpg', 'invoice_12.jpg', 'invoice_10.jpg', 'invoice_14.jpg', 'invoice_6.jpg', 'invoice_4.jpg', 'invoice_2.jpg', 'invoice_7.jpg', 'invoice_15.jpg', 'invoice_3.jpg', 'invoice_1.jpg', 'invoice_5.jpg'] files\n",
      "Number of files found in \"invoice-ocr-data\" :  16\n"
     ]
    }
   ],
   "source": [
    "traverse(sample_images)"
   ]
  },
  {
   "cell_type": "code",
   "execution_count": 6,
   "id": "33e68122",
   "metadata": {
    "execution": {
     "iopub.execute_input": "2022-04-21T12:39:06.621033Z",
     "iopub.status.busy": "2022-04-21T12:39:06.620380Z",
     "iopub.status.idle": "2022-04-21T12:39:06.628308Z",
     "shell.execute_reply": "2022-04-21T12:39:06.627719Z"
    },
    "papermill": {
     "duration": 0.033833,
     "end_time": "2022-04-21T12:39:06.630162",
     "exception": false,
     "start_time": "2022-04-21T12:39:06.596329",
     "status": "completed"
    },
    "tags": []
   },
   "outputs": [],
   "source": [
    "ex_txt = []   #list to store the extracted text\n",
    "\n",
    "#Function to Extract Text\n",
    "def TxtExtract(directory):\n",
    "    \"\"\"\n",
    "    This function will handle the core OCR processing of images.\n",
    "    \"\"\"\n",
    "    \n",
    "    for subdir, dirs, files in os.walk(directory):\n",
    "        for file in files:\n",
    "            filepath = subdir + os.sep + file\n",
    "            text = pytesseract.image_to_string(Image.open(filepath), timeout=5)\n",
    "            if not text:\n",
    "                ex_txt.extend([[file, \"blank\"]])\n",
    "            else:   \n",
    "                ex_txt.extend([[file, text]])\n",
    "                \n",
    "    fol_nm = os.path.split(os.path.dirname(subdir))[-1]\n",
    "    \n",
    "    print(f\"Text Extracted from the files in '{fol_nm}' folder & saved to list..\")"
   ]
  },
  {
   "cell_type": "markdown",
   "id": "a2ec7770",
   "metadata": {
    "papermill": {
     "duration": 0.022725,
     "end_time": "2022-04-21T12:39:06.676253",
     "exception": false,
     "start_time": "2022-04-21T12:39:06.653528",
     "status": "completed"
    },
    "tags": []
   },
   "source": [
    "**Method #1 Extracting data using Data Frames**"
   ]
  },
  {
   "cell_type": "code",
   "execution_count": 7,
   "id": "077a727e",
   "metadata": {
    "execution": {
     "iopub.execute_input": "2022-04-21T12:39:06.724041Z",
     "iopub.status.busy": "2022-04-21T12:39:06.723600Z",
     "iopub.status.idle": "2022-04-21T12:39:06.733449Z",
     "shell.execute_reply": "2022-04-21T12:39:06.732877Z"
    },
    "papermill": {
     "duration": 0.036152,
     "end_time": "2022-04-21T12:39:06.735424",
     "exception": false,
     "start_time": "2022-04-21T12:39:06.699272",
     "status": "completed"
    },
    "tags": []
   },
   "outputs": [],
   "source": [
    "# Define function to handle Extraction of Image data\n",
    "def extract_Data(df,options):\n",
    "    '''\n",
    "    Func to Handle any data needs to be retrieved from Image\n",
    "    the sent df and returns the needed values\n",
    "    '''\n",
    "    value = []\n",
    "    final_list = []\n",
    "    # selecting rows based on condition\n",
    "    if len(df[df['text'].isin(options)]) != 0:\n",
    "        res = df[df['text'].isin(options)]\n",
    "        pos = res.index[0]\n",
    "        if \"Invoice\" in options:\n",
    "            value = [df['text'][pos:pos+20].reset_index(drop=True)]\n",
    "            for i in range(len(value[0])):\n",
    "                if value[0][i] == \"Invoice\":\n",
    "                    final_list.append(value[0][i:i+5])\n",
    "            final_df = pd.DataFrame(final_list)\n",
    "            return final_df\n",
    "        elif \"Description\" in options:\n",
    "            value = [df['text'][pos:pos+48].reset_index(drop=True)]\n",
    "            final_list.append(value[0])\n",
    "            final_df = pd.DataFrame(final_list)\n",
    "            return (final_df.iloc[:,:21],final_df.iloc[:,21:41],final_df.iloc[:,41:])\n",
    "        else:\n",
    "            return final_list\n",
    "    else:\n",
    "        return \"OCR could not extract Such Data From Image\"\n",
    "        \n",
    "        "
   ]
  },
  {
   "cell_type": "code",
   "execution_count": 8,
   "id": "4cabd012",
   "metadata": {
    "execution": {
     "iopub.execute_input": "2022-04-21T12:39:06.786772Z",
     "iopub.status.busy": "2022-04-21T12:39:06.786095Z",
     "iopub.status.idle": "2022-04-21T12:39:09.516774Z",
     "shell.execute_reply": "2022-04-21T12:39:09.515841Z"
    },
    "papermill": {
     "duration": 2.758875,
     "end_time": "2022-04-21T12:39:09.519947",
     "exception": false,
     "start_time": "2022-04-21T12:39:06.761072",
     "status": "completed"
    },
    "tags": []
   },
   "outputs": [],
   "source": [
    "x = pytesseract.image_to_data(\"../input/invoice-ocr-data/invoice_2.jpg\",output_type = Output.DATAFRAME)"
   ]
  },
  {
   "cell_type": "code",
   "execution_count": 9,
   "id": "8624ba2f",
   "metadata": {
    "execution": {
     "iopub.execute_input": "2022-04-21T12:39:09.570170Z",
     "iopub.status.busy": "2022-04-21T12:39:09.569862Z",
     "iopub.status.idle": "2022-04-21T12:39:09.607688Z",
     "shell.execute_reply": "2022-04-21T12:39:09.606931Z"
    },
    "papermill": {
     "duration": 0.065565,
     "end_time": "2022-04-21T12:39:09.609625",
     "exception": false,
     "start_time": "2022-04-21T12:39:09.544060",
     "status": "completed"
    },
    "tags": []
   },
   "outputs": [
    {
     "data": {
      "text/html": [
       "<div>\n",
       "<style scoped>\n",
       "    .dataframe tbody tr th:only-of-type {\n",
       "        vertical-align: middle;\n",
       "    }\n",
       "\n",
       "    .dataframe tbody tr th {\n",
       "        vertical-align: top;\n",
       "    }\n",
       "\n",
       "    .dataframe thead th {\n",
       "        text-align: right;\n",
       "    }\n",
       "</style>\n",
       "<table border=\"1\" class=\"dataframe\">\n",
       "  <thead>\n",
       "    <tr style=\"text-align: right;\">\n",
       "      <th></th>\n",
       "      <th>0</th>\n",
       "      <th>1</th>\n",
       "      <th>2</th>\n",
       "      <th>3</th>\n",
       "      <th>4</th>\n",
       "      <th>13</th>\n",
       "      <th>14</th>\n",
       "      <th>15</th>\n",
       "      <th>16</th>\n",
       "      <th>17</th>\n",
       "    </tr>\n",
       "  </thead>\n",
       "  <tbody>\n",
       "    <tr>\n",
       "      <th>text</th>\n",
       "      <td>Invoice</td>\n",
       "      <td>No</td>\n",
       "      <td>:</td>\n",
       "      <td>1291908241</td>\n",
       "      <td>Vehicle</td>\n",
       "      <td>NaN</td>\n",
       "      <td>NaN</td>\n",
       "      <td>NaN</td>\n",
       "      <td>NaN</td>\n",
       "      <td>NaN</td>\n",
       "    </tr>\n",
       "    <tr>\n",
       "      <th>text</th>\n",
       "      <td>NaN</td>\n",
       "      <td>NaN</td>\n",
       "      <td>NaN</td>\n",
       "      <td>NaN</td>\n",
       "      <td>NaN</td>\n",
       "      <td>Invoice</td>\n",
       "      <td>Date</td>\n",
       "      <td>:</td>\n",
       "      <td>21/01/2020</td>\n",
       "      <td>Buyer</td>\n",
       "    </tr>\n",
       "  </tbody>\n",
       "</table>\n",
       "</div>"
      ],
      "text/plain": [
       "           0    1    2           3        4        13    14   15          16  \\\n",
       "text  Invoice   No    :  1291908241  Vehicle      NaN   NaN  NaN         NaN   \n",
       "text      NaN  NaN  NaN         NaN      NaN  Invoice  Date    :  21/01/2020   \n",
       "\n",
       "         17  \n",
       "text    NaN  \n",
       "text  Buyer  "
      ]
     },
     "execution_count": 9,
     "metadata": {},
     "output_type": "execute_result"
    }
   ],
   "source": [
    "# choosing what type generic type of Data to Extract\n",
    "options1 = [\"Invoice\"]\n",
    "options2 = ['Description','DESCRIPTION']\n",
    "extract_Data(x,options1)\n"
   ]
  },
  {
   "cell_type": "code",
   "execution_count": null,
   "id": "7424e675",
   "metadata": {
    "papermill": {
     "duration": 0.023708,
     "end_time": "2022-04-21T12:39:09.657209",
     "exception": false,
     "start_time": "2022-04-21T12:39:09.633501",
     "status": "completed"
    },
    "tags": []
   },
   "outputs": [],
   "source": []
  },
  {
   "cell_type": "markdown",
   "id": "ec24e4b8",
   "metadata": {
    "papermill": {
     "duration": 0.024523,
     "end_time": "2022-04-21T12:39:09.705679",
     "exception": false,
     "start_time": "2022-04-21T12:39:09.681156",
     "status": "completed"
    },
    "tags": []
   },
   "source": [
    "**Method #2 Extracting Data through Image to Strings output**"
   ]
  },
  {
   "cell_type": "code",
   "execution_count": 10,
   "id": "4005ab3e",
   "metadata": {
    "execution": {
     "iopub.execute_input": "2022-04-21T12:39:09.756216Z",
     "iopub.status.busy": "2022-04-21T12:39:09.755930Z",
     "iopub.status.idle": "2022-04-21T12:39:55.875183Z",
     "shell.execute_reply": "2022-04-21T12:39:55.874124Z"
    },
    "papermill": {
     "duration": 46.170842,
     "end_time": "2022-04-21T12:39:55.901518",
     "exception": false,
     "start_time": "2022-04-21T12:39:09.730676",
     "status": "completed"
    },
    "tags": []
   },
   "outputs": [
    {
     "name": "stdout",
     "output_type": "stream",
     "text": [
      "Text Extracted from the files in 'invoice-ocr-data' folder & saved to list..\n"
     ]
    }
   ],
   "source": [
    "TxtExtract(sample_images)"
   ]
  },
  {
   "cell_type": "code",
   "execution_count": 11,
   "id": "7e5d8af4",
   "metadata": {
    "execution": {
     "iopub.execute_input": "2022-04-21T12:39:55.953301Z",
     "iopub.status.busy": "2022-04-21T12:39:55.952317Z",
     "iopub.status.idle": "2022-04-21T12:39:55.965800Z",
     "shell.execute_reply": "2022-04-21T12:39:55.965181Z"
    },
    "papermill": {
     "duration": 0.04144,
     "end_time": "2022-04-21T12:39:55.967881",
     "exception": false,
     "start_time": "2022-04-21T12:39:55.926441",
     "status": "completed"
    },
    "tags": []
   },
   "outputs": [
    {
     "data": {
      "text/html": [
       "<div>\n",
       "<style scoped>\n",
       "    .dataframe tbody tr th:only-of-type {\n",
       "        vertical-align: middle;\n",
       "    }\n",
       "\n",
       "    .dataframe tbody tr th {\n",
       "        vertical-align: top;\n",
       "    }\n",
       "\n",
       "    .dataframe thead th {\n",
       "        text-align: right;\n",
       "    }\n",
       "</style>\n",
       "<table border=\"1\" class=\"dataframe\">\n",
       "  <thead>\n",
       "    <tr style=\"text-align: right;\">\n",
       "      <th></th>\n",
       "      <th>FileName</th>\n",
       "      <th>Text</th>\n",
       "    </tr>\n",
       "  </thead>\n",
       "  <tbody>\n",
       "    <tr>\n",
       "      <th>0</th>\n",
       "      <td>invoice_16.jpg</td>\n",
       "      <td>\\n\\nMl Psi Li TAX INVOICE Extra Copy\\n2 Daly ...</td>\n",
       "    </tr>\n",
       "    <tr>\n",
       "      <th>1</th>\n",
       "      <td>invoice_11.jpg</td>\n",
       "      <td>\\n\\nmM Micro Plastics Prt, Ltd, TAX INVOICE T...</td>\n",
       "    </tr>\n",
       "    <tr>\n",
       "      <th>2</th>\n",
       "      <td>invoice_13.jpg</td>\n",
       "      <td>\\n\\nAA Mico laste Prt. Ld, TAX INVOICE Origin...</td>\n",
       "    </tr>\n",
       "    <tr>\n",
       "      <th>3</th>\n",
       "      <td>invoice_8.jpg</td>\n",
       "      <td>‘ubject fo the Exclusive Jurisdiction at BANGA...</td>\n",
       "    </tr>\n",
       "    <tr>\n",
       "      <th>4</th>\n",
       "      <td>invoice_9.jpg</td>\n",
       "      <td>\\n\\nmh Micro Plastics Prt, Ltd, TAX INVOICE O...</td>\n",
       "    </tr>\n",
       "    <tr>\n",
       "      <th>5</th>\n",
       "      <td>invoice_12.jpg</td>\n",
       "      <td>\\n\\n76 Mico Pht rt Ltd, TAX INVOICE Extra Cop...</td>\n",
       "    </tr>\n",
       "    <tr>\n",
       "      <th>6</th>\n",
       "      <td>invoice_10.jpg</td>\n",
       "      <td>\\n\\nmM Micro Plastics Prt, Ltd, TAX INVOICE D...</td>\n",
       "    </tr>\n",
       "    <tr>\n",
       "      <th>7</th>\n",
       "      <td>invoice_14.jpg</td>\n",
       "      <td>\\n\\n7A Mir Plats rt Ltd, TAX INVOICE Duplicat...</td>\n",
       "    </tr>\n",
       "    <tr>\n",
       "      <th>8</th>\n",
       "      <td>invoice_6.jpg</td>\n",
       "      <td>\\n\\n   \\n\\n \\n\\n \\n\\n \\n\\n \\n\\n \\n\\n \\n\\n \\n\\...</td>\n",
       "    </tr>\n",
       "    <tr>\n",
       "      <th>9</th>\n",
       "      <td>invoice_4.jpg</td>\n",
       "      <td>TAX INVOICE (ORIGINAL FOR RECIPIENT)\\n\\nPROTEC...</td>\n",
       "    </tr>\n",
       "    <tr>\n",
       "      <th>10</th>\n",
       "      <td>invoice_2.jpg</td>\n",
       "      <td>\\n\\n \\n\\n \\n\\n \\n\\n \\n\\n \\n\\n \\n\\n \\n\\n \\n\\n ...</td>\n",
       "    </tr>\n",
       "    <tr>\n",
       "      <th>11</th>\n",
       "      <td>invoice_7.jpg</td>\n",
       "      <td>\\n\\n \\n\\n \\n \\n\\nTHE SUPREME INDUSTRIES LIMIT...</td>\n",
       "    </tr>\n",
       "    <tr>\n",
       "      <th>12</th>\n",
       "      <td>invoice_15.jpg</td>\n",
       "      <td>\\n\\nmM Micro Plsis Prt. td, TAX INVOICE Tripl...</td>\n",
       "    </tr>\n",
       "    <tr>\n",
       "      <th>13</th>\n",
       "      <td>invoice_3.jpg</td>\n",
       "      <td>i\\nee\\n(PRO\\n\\n“Transport Copy/Asesee Copy Oan...</td>\n",
       "    </tr>\n",
       "    <tr>\n",
       "      <th>14</th>\n",
       "      <td>invoice_1.jpg</td>\n",
       "      <td>\\n\\nA GST TAX INVOICE Original/Duplicate/Trip...</td>\n",
       "    </tr>\n",
       "    <tr>\n",
       "      <th>15</th>\n",
       "      <td>invoice_5.jpg</td>\n",
       "      <td>\\n\\nTAX INVOICE ORIGINAL FOR BUYER\\n[Exporier...</td>\n",
       "    </tr>\n",
       "  </tbody>\n",
       "</table>\n",
       "</div>"
      ],
      "text/plain": [
       "          FileName                                               Text\n",
       "0   invoice_16.jpg   \\n\\nMl Psi Li TAX INVOICE Extra Copy\\n2 Daly ...\n",
       "1   invoice_11.jpg   \\n\\nmM Micro Plastics Prt, Ltd, TAX INVOICE T...\n",
       "2   invoice_13.jpg   \\n\\nAA Mico laste Prt. Ld, TAX INVOICE Origin...\n",
       "3    invoice_8.jpg  ‘ubject fo the Exclusive Jurisdiction at BANGA...\n",
       "4    invoice_9.jpg   \\n\\nmh Micro Plastics Prt, Ltd, TAX INVOICE O...\n",
       "5   invoice_12.jpg   \\n\\n76 Mico Pht rt Ltd, TAX INVOICE Extra Cop...\n",
       "6   invoice_10.jpg   \\n\\nmM Micro Plastics Prt, Ltd, TAX INVOICE D...\n",
       "7   invoice_14.jpg   \\n\\n7A Mir Plats rt Ltd, TAX INVOICE Duplicat...\n",
       "8    invoice_6.jpg   \\n\\n   \\n\\n \\n\\n \\n\\n \\n\\n \\n\\n \\n\\n \\n\\n \\n\\...\n",
       "9    invoice_4.jpg  TAX INVOICE (ORIGINAL FOR RECIPIENT)\\n\\nPROTEC...\n",
       "10   invoice_2.jpg   \\n\\n \\n\\n \\n\\n \\n\\n \\n\\n \\n\\n \\n\\n \\n\\n \\n\\n ...\n",
       "11   invoice_7.jpg   \\n\\n \\n\\n \\n \\n\\nTHE SUPREME INDUSTRIES LIMIT...\n",
       "12  invoice_15.jpg   \\n\\nmM Micro Plsis Prt. td, TAX INVOICE Tripl...\n",
       "13   invoice_3.jpg  i\\nee\\n(PRO\\n\\n“Transport Copy/Asesee Copy Oan...\n",
       "14   invoice_1.jpg   \\n\\nA GST TAX INVOICE Original/Duplicate/Trip...\n",
       "15   invoice_5.jpg   \\n\\nTAX INVOICE ORIGINAL FOR BUYER\\n[Exporier..."
      ]
     },
     "execution_count": 11,
     "metadata": {},
     "output_type": "execute_result"
    }
   ],
   "source": [
    "#Converting the list to dataframe for further analysis\n",
    "ext_df = pd.DataFrame(ex_txt,columns=['FileName','Text'])\n",
    "ext_df"
   ]
  },
  {
   "cell_type": "code",
   "execution_count": 12,
   "id": "e0a096af",
   "metadata": {
    "execution": {
     "iopub.execute_input": "2022-04-21T12:39:56.020189Z",
     "iopub.status.busy": "2022-04-21T12:39:56.019674Z",
     "iopub.status.idle": "2022-04-21T12:39:56.024442Z",
     "shell.execute_reply": "2022-04-21T12:39:56.023840Z"
    },
    "papermill": {
     "duration": 0.033175,
     "end_time": "2022-04-21T12:39:56.026529",
     "exception": false,
     "start_time": "2022-04-21T12:39:55.993354",
     "status": "completed"
    },
    "tags": []
   },
   "outputs": [],
   "source": [
    "# Create list of pre-processing func (gensim)\n",
    "processes = [\n",
    "               gsp.strip_tags, \n",
    "               gsp.strip_multiple_whitespaces,\n",
    "               gsp.remove_stopwords, \n",
    "            ]\n",
    "\n",
    "# Create func to pre-process text\n",
    "def proc_txt(txt):\n",
    "    text = utils.to_unicode(txt)\n",
    "    for p in processes:\n",
    "        text = p(text)\n",
    "    return text"
   ]
  },
  {
   "cell_type": "code",
   "execution_count": 13,
   "id": "c32d67e8",
   "metadata": {
    "execution": {
     "iopub.execute_input": "2022-04-21T12:39:56.079441Z",
     "iopub.status.busy": "2022-04-21T12:39:56.078986Z",
     "iopub.status.idle": "2022-04-21T12:39:56.095570Z",
     "shell.execute_reply": "2022-04-21T12:39:56.094943Z"
    },
    "papermill": {
     "duration": 0.045568,
     "end_time": "2022-04-21T12:39:56.097673",
     "exception": false,
     "start_time": "2022-04-21T12:39:56.052105",
     "status": "completed"
    },
    "tags": []
   },
   "outputs": [],
   "source": [
    "#Creating a new column with processed text\n",
    "ext_df['Text_Pr'] = ext_df['Text'].apply(lambda x: proc_txt(x))"
   ]
  },
  {
   "cell_type": "code",
   "execution_count": 14,
   "id": "82cb6ff1",
   "metadata": {
    "execution": {
     "iopub.execute_input": "2022-04-21T12:39:56.149109Z",
     "iopub.status.busy": "2022-04-21T12:39:56.148648Z",
     "iopub.status.idle": "2022-04-21T12:39:56.153550Z",
     "shell.execute_reply": "2022-04-21T12:39:56.152987Z"
    },
    "papermill": {
     "duration": 0.032698,
     "end_time": "2022-04-21T12:39:56.155296",
     "exception": false,
     "start_time": "2022-04-21T12:39:56.122598",
     "status": "completed"
    },
    "tags": []
   },
   "outputs": [
    {
     "data": {
      "text/plain": [
       "\"mh Micro Plastics Prt, Ltd, TAX INVOICE Original Recipient wag “Dug Sdn MICRO PLASTICS PVT.LTD. (EOU) Page 1 1 Khata No. 170/1, Sy.No. 330/3, Subharam Indl. Estate, Marsur Gate, Kasaba Hobli, Anekal Taluk Bengaluru Karnataka 562106 India Phone Email Website : www.microplasticsindia.com GSTIN : 29AABCM9971E1Z3 CIN: U19201KA1994PTC015731 PAN AABCM9971E Invoice No: 1/EO0U192001343 Transportation Mode: Road Invoice Date & Time: 04-01-2020/15:48:16 Vehicle No. : Tax Is Payable On Reverse Charge: No Date & Time Supply: 04-01-2020 15:48:31 Payment Terms: 30 DAYS Place Supply: Karnataka Transporter Name: Eway Bill No: 191190661253 Details Recipient (Billed to) Details Consignee (Shipped to) Decathlon Sports India Pvt Ltd Decathlon Sports India Pvt Ltd SURVEY NO.78/10, CHIKKAJALA VILLAGE BELLARY ROAD, C/o DHL Supply Chain India Pvt Ltd, Survey 41/2 Oblapura Village BANGALORE Anugondanahalli Hoskote Taluk Bengaluru Bengaluru 562157 Karnataka India Bengaluru 560067 Karnataka India State Code : 29 State Code : 29 GSTIN : 29AAACL9861H1Z2 GSTIN : g = po | HSN __ Taxable | __ CGST UT/SGST IGsT No| PartNo Description No/PO | Code |Qty |UOM| Rate |Amount| Disc Valle Date (GST) % | Amount | % | Amount| % | Amount HAND RECOVERY “Ap13B62401 1 A5657 MASSAGE PURPLE 95030030 360} NOS 55.25] 19890.00 0.00) 19890.00] 6.00 1193.40] 6.00 1193.40} 0.00 0.00 04-12-2019 TOTAL | 360 1989000] 0.00] 19890.00) 1193.40 1193.40) 0.00 Total Invoice Value (In Figure) 22276.80 Total Invoice Value (In Words) Rupee Twenty Two Thousand Two Hundred Seventy Six And Eighty Paisa Total Tax (In Words) Rupee Two Thousand Three Hundred Eighty Six And Eighty Paisa Remarks: 1) The contract shall seller buyer principal dealing principal. 2) The buyer shall notify seller writing TERM & CONDITION OF SALE Electronic Reference Number. Certified That The Particulars Given Above Are True And Correct And The Amount Indicated Represents The Price Actually Charges And There Is No Gentitied that. Particulars given/above'ars true, correct Additional Consideration Directly Or Indirectly buyer. For MICRO PLASTICS PVT.LTD. NOTE: Interest @ 18% p.a date invoice charged payments case delay agreed credit terms Disputes Subject Bangalore Jurisdiction. Signature: Authorized Signatory Name: Prepared By Verified By Designation:\""
      ]
     },
     "execution_count": 14,
     "metadata": {},
     "output_type": "execute_result"
    }
   ],
   "source": [
    "str_test = ext_df['Text_Pr'][4]\n",
    "str_test"
   ]
  },
  {
   "cell_type": "code",
   "execution_count": 15,
   "id": "a998bedc",
   "metadata": {
    "execution": {
     "iopub.execute_input": "2022-04-21T12:39:56.207772Z",
     "iopub.status.busy": "2022-04-21T12:39:56.207493Z",
     "iopub.status.idle": "2022-04-21T12:39:56.223663Z",
     "shell.execute_reply": "2022-04-21T12:39:56.222841Z"
    },
    "papermill": {
     "duration": 0.045009,
     "end_time": "2022-04-21T12:39:56.225706",
     "exception": false,
     "start_time": "2022-04-21T12:39:56.180697",
     "status": "completed"
    },
    "tags": []
   },
   "outputs": [],
   "source": [
    "import re\n",
    "def extract_data_From_String(data,value,window):\n",
    "    ''' Func To handle Data Extracting Based on the Choices\n",
    "        of paramters passed such as window size refers to how long \n",
    "        the text should be detected and value which refers to which\n",
    "        piece of Info needed to be Extracted from the Image\n",
    "    '''\n",
    "    ext_data = []\n",
    "    if value == \"Invoice\":\n",
    "        for i in range(len(data)):\n",
    "            ext_pos  = data[i].find(value.capitalize())\n",
    "            output = data[i][ext_pos:ext_pos + window]\n",
    "            if len(output) != 0:\n",
    "                try:\n",
    "                    Invoice_No_Match   = re.search(r'[{1}]/\\b[A-Z0-9]{10,15}|\\d{9,10}',output)\n",
    "                    Invoice_Date_Match = re.search(r'([\\d]{2})-([\\d]{2})-([\\d]{4})|([\\d]{2}).([\\d]{2}).([\\d]{4})',output)\n",
    "                    print(\"Image No\",i+1)\n",
    "                    print(\"Invoice No.\", Invoice_No_Match.group())\n",
    "                    print(\"Invoice Date \",Invoice_Date_Match.group())\n",
    "                    print(\"\\n\")\n",
    "                except:\n",
    "                    print(\"No Match\")\n",
    "            else:\n",
    "                return ext_data\n",
    "    if value == \"Description\":\n",
    "        for i in range(len(data)):\n",
    "            ext_pos  = data[i].find(value.capitalize())\n",
    "            output = data[i][ext_pos:ext_pos + window]\n",
    "            if len(output) != 0:\n",
    "                try:\n",
    "                    print(\"\\n\")\n",
    "                    Item_QTY_Match   = re.search(r'[\\d]{3,6}[\\]}|*-] [A-z]{3}|[\\d]{3,6}[\\]}|*-] [a-z]{3}|[\\d]{3,6}[\\]}|*-] [A-Z]{3}',output)\n",
    "                    Item_Amount_Match = re.search(r'[\\d]{4,5}[.,][\\d]{2}[\\]}|*-]',output)\n",
    "                    Item_Desc_Match = re.search(r'[A-z]{4,10} [a-z]{2,10} [\\d]{1,5}|[A-Z]{4,10} [A-Z]{2,10} [\\d]{1,5}',output)\n",
    "                    print(\"Image No\",i+1)\n",
    "                    print(\"Item QTY \", Item_QTY_Match.group())\n",
    "                    print(\"Item Amount \",Item_Amount_Match.group())\n",
    "                    print(\"Item Description \",Item_Desc_Match.group())\n",
    "                    print(\"\\n\")\n",
    "                except:\n",
    "                    pass\n",
    "            else:\n",
    "                ext_pos  = data[i].find(value.upper())\n",
    "                output = data[i][ext_pos:ext_pos + window]\n",
    "                if len(output) != 0:\n",
    "                    try:\n",
    "                        print(\"\\n\")\n",
    "                        Item_QTY_Match   = re.search(r'[\\d]{3,6}[\\]}|*-] [A-z]{3}|[\\d]{3,6}[\\]}|*-] [a-z]{3}|[\\d]{3,6}[\\]}|*-] [A-Z]{3}',output)\n",
    "                        Item_Amount_Match = re.search(r'[\\d]{4,5}[.,][\\d]{2}[\\]}|*-]',output)\n",
    "                        Item_Desc_Match = re.search(r'[A-z]{4,10} [a-z]{2,10} [\\d]{1,5}|[A-Z]{4,10} [A-Z]{2,10} [\\d]{1,5}',output)\n",
    "                        print(\"Image No\",i+1)\n",
    "                        print(\"Item QTY \", Item_QTY_Match.group())\n",
    "                        print(\"Item Amount \",Item_Amount_Match.group())\n",
    "                        print(\"Item Description \",Item_Desc_Match.group())\n",
    "                        print(\"\\n\")\n",
    "                    except:\n",
    "                        pass\n",
    "                else:\n",
    "                    return ext_data\n",
    "        \n",
    "        return ext_data"
   ]
  },
  {
   "cell_type": "markdown",
   "id": "24b3e0da",
   "metadata": {
    "papermill": {
     "duration": 0.025696,
     "end_time": "2022-04-21T12:39:56.277250",
     "exception": false,
     "start_time": "2022-04-21T12:39:56.251554",
     "status": "completed"
    },
    "tags": []
   },
   "source": [
    "**Testing The Model**"
   ]
  },
  {
   "cell_type": "markdown",
   "id": "6243ecf3",
   "metadata": {
    "papermill": {
     "duration": 0.024977,
     "end_time": "2022-04-21T12:39:56.327597",
     "exception": false,
     "start_time": "2022-04-21T12:39:56.302620",
     "status": "completed"
    },
    "tags": []
   },
   "source": [
    "## Item Line Description"
   ]
  },
  {
   "cell_type": "code",
   "execution_count": 16,
   "id": "fe0581ba",
   "metadata": {
    "execution": {
     "iopub.execute_input": "2022-04-21T12:39:56.379488Z",
     "iopub.status.busy": "2022-04-21T12:39:56.379159Z",
     "iopub.status.idle": "2022-04-21T12:39:56.395631Z",
     "shell.execute_reply": "2022-04-21T12:39:56.394810Z"
    },
    "papermill": {
     "duration": 0.044703,
     "end_time": "2022-04-21T12:39:56.397584",
     "exception": false,
     "start_time": "2022-04-21T12:39:56.352881",
     "status": "completed"
    },
    "tags": []
   },
   "outputs": [
    {
     "name": "stdout",
     "output_type": "stream",
     "text": [
      "\n",
      "\n",
      "Image No 1\n",
      "Item QTY  10080] Nos\n",
      "Item Amount  24676.80|\n",
      "Item Description  Jump rope 100\n",
      "\n",
      "\n",
      "\n",
      "\n",
      "Image No 2\n",
      "Item QTY  360} NOS\n",
      "Item Amount  19890.00]\n",
      "Item Description  MASSAGE PURPLE 95030\n",
      "\n",
      "\n",
      "\n",
      "\n",
      "Image No 3\n",
      "Item QTY  10080] Nos\n",
      "Item Amount  24676.80|\n",
      "Item Description  Jump rope 100\n",
      "\n",
      "\n",
      "\n",
      "\n",
      "Image No 4\n",
      "\n",
      "\n",
      "Image No 5\n",
      "Item QTY  360} NOS\n",
      "Item Amount  19890.00]\n",
      "Item Description  MASSAGE PURPLE 95030\n",
      "\n",
      "\n",
      "\n",
      "\n",
      "Image No 6\n",
      "Item QTY  360} NOS\n",
      "Item Amount  19890.00]\n",
      "Item Description  MASSAGE PURPLE 95030\n",
      "\n",
      "\n",
      "\n",
      "\n",
      "Image No 7\n",
      "Item QTY  360} NOS\n",
      "Item Amount  19890.00]\n",
      "Item Description  MASSAGE PURPLE 95030\n",
      "\n",
      "\n",
      "\n",
      "\n",
      "Image No 8\n",
      "Item QTY  10080] Nos\n",
      "Item Amount  24676.80|\n",
      "Item Description  Jump rope 100\n",
      "\n",
      "\n"
     ]
    },
    {
     "data": {
      "text/plain": [
       "[]"
      ]
     },
     "execution_count": 16,
     "metadata": {},
     "output_type": "execute_result"
    }
   ],
   "source": [
    "extract_data_From_String(ext_df['Text_Pr'],'Description', 600)"
   ]
  },
  {
   "cell_type": "markdown",
   "id": "738b7d7d",
   "metadata": {
    "papermill": {
     "duration": 0.025537,
     "end_time": "2022-04-21T12:39:56.449423",
     "exception": false,
     "start_time": "2022-04-21T12:39:56.423886",
     "status": "completed"
    },
    "tags": []
   },
   "source": [
    "## Inoice Number and Invoice Date"
   ]
  },
  {
   "cell_type": "code",
   "execution_count": 17,
   "id": "9e904b3c",
   "metadata": {
    "execution": {
     "iopub.execute_input": "2022-04-21T12:39:56.502414Z",
     "iopub.status.busy": "2022-04-21T12:39:56.502151Z",
     "iopub.status.idle": "2022-04-21T12:39:56.514410Z",
     "shell.execute_reply": "2022-04-21T12:39:56.513606Z"
    },
    "papermill": {
     "duration": 0.04126,
     "end_time": "2022-04-21T12:39:56.516579",
     "exception": false,
     "start_time": "2022-04-21T12:39:56.475319",
     "status": "completed"
    },
    "tags": []
   },
   "outputs": [
    {
     "name": "stdout",
     "output_type": "stream",
     "text": [
      "Image No 1\n",
      "Invoice No. 1/EQU192001344\n",
      "Invoice Date  04-01-2020\n",
      "\n",
      "\n",
      "Image No 2\n",
      "Invoice No. 1/EO0U192001343\n",
      "Invoice Date  04-01-2020\n",
      "\n",
      "\n",
      "Image No 3\n",
      "Invoice No. 1/EQU192001344\n",
      "Invoice Date  04-01-2020\n",
      "\n",
      "\n",
      "Image No 4\n",
      "Invoice No. 2190002016\n",
      "Invoice Date  2190002016\n",
      "\n",
      "\n",
      "Image No 5\n",
      "Invoice No. 1/EO0U192001343\n",
      "Invoice Date  04-01-2020\n",
      "\n",
      "\n",
      "Image No 6\n",
      "Invoice No. 1/EO0U192001343\n",
      "Invoice Date  04-01-2020\n",
      "\n",
      "\n",
      "Image No 7\n",
      "Invoice No. 1/EO0U192001343\n",
      "Invoice Date  04-01-2020\n",
      "\n",
      "\n",
      "Image No 8\n",
      "Invoice No. 1/EQU192001344\n",
      "Invoice Date  04-01-2020\n",
      "\n",
      "\n"
     ]
    },
    {
     "data": {
      "text/plain": [
       "[]"
      ]
     },
     "execution_count": 17,
     "metadata": {},
     "output_type": "execute_result"
    }
   ],
   "source": [
    "extract_data_From_String(ext_df['Text_Pr'],'Invoice', 100)"
   ]
  },
  {
   "cell_type": "code",
   "execution_count": null,
   "id": "5590ab9c",
   "metadata": {
    "papermill": {
     "duration": 0.02648,
     "end_time": "2022-04-21T12:39:56.569910",
     "exception": false,
     "start_time": "2022-04-21T12:39:56.543430",
     "status": "completed"
    },
    "tags": []
   },
   "outputs": [],
   "source": []
  }
 ],
 "metadata": {
  "kernelspec": {
   "display_name": "Python 3",
   "language": "python",
   "name": "python3"
  },
  "language_info": {
   "codemirror_mode": {
    "name": "ipython",
    "version": 3
   },
   "file_extension": ".py",
   "mimetype": "text/x-python",
   "name": "python",
   "nbconvert_exporter": "python",
   "pygments_lexer": "ipython3",
   "version": "3.7.12"
  },
  "papermill": {
   "default_parameters": {},
   "duration": 62.835018,
   "end_time": "2022-04-21T12:39:57.518215",
   "environment_variables": {},
   "exception": null,
   "input_path": "__notebook__.ipynb",
   "output_path": "__notebook__.ipynb",
   "parameters": {},
   "start_time": "2022-04-21T12:38:54.683197",
   "version": "2.3.4"
  }
 },
 "nbformat": 4,
 "nbformat_minor": 5
}
